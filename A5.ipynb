{
 "cells": [
  {
   "cell_type": "code",
   "execution_count": 1,
   "metadata": {},
   "outputs": [],
   "source": [
    "import numpy as np\n",
    "import matplotlib.pyplot as plt"
   ]
  },
  {
   "cell_type": "markdown",
   "metadata": {},
   "source": [
    "# Question 1\n",
    "\n",
    "Evaluate the following integral:\n",
    "$$ \\int_{-2}^4 {(1-x-4x^3+2x^5)} dx $$\n",
    "\n",
    "1. Using Reimann’s sum (midpoint rule) with 6 subintervals.\n",
    "2. Using the Gaussian Quadrature method\n"
   ]
  },
  {
   "cell_type": "code",
   "execution_count": 2,
   "metadata": {},
   "outputs": [],
   "source": [
    "# Function expression to evaluate at x\n",
    "def y1(x):\n",
    "\n",
    "    return (1 - x - 4*x**3 + 2*x**5)"
   ]
  },
  {
   "cell_type": "code",
   "execution_count": 3,
   "metadata": {},
   "outputs": [],
   "source": [
    "# Riemann sum\n",
    "def riemann(x, y):\n",
    "    \"\"\"\n",
    "    x : list of x values\n",
    "    y : function expression \n",
    "    \"\"\"\n",
    "    I = 0\n",
    "    for i in range(1, len(x)):\n",
    "        midPoint = (x[i] + x[i-1])/2\n",
    "        y_mid = y(midPoint)\n",
    "        I += y_mid*(x[i] - x[i-1])\n",
    "    return I"
   ]
  },
  {
   "cell_type": "code",
   "execution_count": 4,
   "metadata": {},
   "outputs": [
    {
     "data": {
      "text/plain": [
       "array([-2., -1.,  0.,  1.,  2.,  3.,  4.])"
      ]
     },
     "execution_count": 4,
     "metadata": {},
     "output_type": "execute_result"
    }
   ],
   "source": [
    "# x values divided into 6 intervals\n",
    "x = np.linspace(-2, 4, 7)\n",
    "x"
   ]
  },
  {
   "cell_type": "code",
   "execution_count": 5,
   "metadata": {},
   "outputs": [
    {
     "name": "stdout",
     "output_type": "stream",
     "text": [
      "Integration using Riemann's sum: 1011.75\n"
     ]
    }
   ],
   "source": [
    "I = riemann(x, y1)\n",
    "print(\"Integration using Riemann's sum:\", I)"
   ]
  },
  {
   "cell_type": "code",
   "execution_count": 6,
   "metadata": {},
   "outputs": [],
   "source": [
    "def gaussian_quad(x, y):\n",
    "    \"\"\"\n",
    "    x: list of x values\n",
    "    y: function expression\n",
    "    \"\"\"\n",
    "\n",
    "    # c : weights/coefficients\n",
    "    c = [0.1713245, 0.3607616, 0.4679139, 0.4679139, 0.3607616, 0.1713245]\n",
    "\n",
    "    # xd : abscissas/ x values for the weights\n",
    "    xd = [-0.932469514, -0.661209386, -0.238619186,\n",
    "          0.238619186, 0.661209386, 0.932469514]\n",
    "\n",
    "    I = 0\n",
    "    for i in range(len(xd)):\n",
    "        xi = 1 + 3*xd[i]  # using change of varibale for integral limits\n",
    "        I += c[i]*y(xi)\n",
    "    return 3*I"
   ]
  },
  {
   "cell_type": "code",
   "execution_count": 7,
   "metadata": {},
   "outputs": [
    {
     "name": "stdout",
     "output_type": "stream",
     "text": [
      "Integration using gauss' quadrature: 1104.0000579596388\n"
     ]
    }
   ],
   "source": [
    "I = gaussian_quad(x, y1)\n",
    "print(\"Integration using gauss' quadrature:\", I)"
   ]
  },
  {
   "cell_type": "markdown",
   "metadata": {},
   "source": [
    "# Question 2\n",
    "\n",
    "The work produced by a constant temperature, pressure-volume thermodynamic process can be computed as:\n",
    "$$ W = {\\int_{V_1}^{V_2}} P(V) dV $$\n",
    "where $W$ is work, $p$ is pressure, and $V$ is volume Evaluate the work, $W (kJ)$ with the following data:\n",
    "\n",
    "\\begin{array}{|c|c|c|c|c|c|c|c|}\n",
    "\\hline\n",
    "Pressure (kPa) & 336 & 294.4 & 266.4 & 260.8 & 260.5 & 249.6 & 193.6 \\\\\n",
    "\\hline\n",
    "Volume (m^3) & 0.5 & 2.3 & 4 & 6 & 8 & 10 & 11 \\\\\n",
    "\\hline\n",
    "\\end{array}\n",
    "\n",
    "\n",
    "\n",
    "1. Trapezoidal rule\n",
    "2. Simpson's rule\n"
   ]
  },
  {
   "cell_type": "code",
   "execution_count": 8,
   "metadata": {},
   "outputs": [],
   "source": [
    "def trapezpoid(x, y):\n",
    "    I = 0\n",
    "    for i in range(1, len(x)):\n",
    "        delx = x[i] - x[i-1]\n",
    "        I += (y[i] + y[i-1])*delx/2\n",
    "    return I"
   ]
  },
  {
   "cell_type": "code",
   "execution_count": 9,
   "metadata": {},
   "outputs": [],
   "source": [
    "# Data points\n",
    "P = [336, 294.4, 266.4, 260.8, 260.5, 249.6, 193.6, 165.7]\n",
    "V = [0.5, 2, 3, 4, 6, 8, 10, 11]"
   ]
  },
  {
   "cell_type": "code",
   "execution_count": 10,
   "metadata": {},
   "outputs": [
    {
     "name": "stdout",
     "output_type": "stream",
     "text": [
      "Work Done =  2671.0499999999997  (kJ)\n"
     ]
    }
   ],
   "source": [
    "I = trapezpoid(V, P)\n",
    "print(\"Work Done = \", I, \" (kJ)\")"
   ]
  },
  {
   "cell_type": "code",
   "execution_count": 11,
   "metadata": {},
   "outputs": [],
   "source": [
    "# Simpson's 3/8 Rule\n",
    "def simpson38(x, y):\n",
    "    # All the x must be equidistant\n",
    "    I = 0\n",
    "    for i in range(1, len(x), 3):\n",
    "        h = x[i] - x[i-1]\n",
    "        I += 3*h*(y[i-3] + 3*y[i-2] + 3*y[i-1] + y[i])/8\n",
    "    return I"
   ]
  },
  {
   "cell_type": "code",
   "execution_count": 12,
   "metadata": {},
   "outputs": [
    {
     "name": "stdout",
     "output_type": "stream",
     "text": [
      "Work Done(Using simpson's + trapezoid) =  2601.375  (kJ)\n"
     ]
    }
   ],
   "source": [
    "# Subdividing the data points into 3 intervals for simpson's 3/8 rule\n",
    "P1 = [260.8, 260.5, 249.6, 193.6]\n",
    "V1 = [4, 6, 8, 10]\n",
    "\n",
    "I1 = simpson38(V1, P1)\n",
    "I2 = trapezpoid(x=[0.5, 2, 3, 4], y=[336, 294.4, 266.4, 260.8])\n",
    "I3 = trapezpoid(x=[10, 11], y=[193.6, 165.6])\n",
    "\n",
    "print(\"Work Done(Using simpson's + trapezoid) = \", I1+I2+I3, \" (kJ)\")"
   ]
  }
 ],
 "metadata": {
  "kernelspec": {
   "display_name": "cl249",
   "language": "python",
   "name": "python3"
  },
  "language_info": {
   "codemirror_mode": {
    "name": "ipython",
    "version": 3
   },
   "file_extension": ".py",
   "mimetype": "text/x-python",
   "name": "python",
   "nbconvert_exporter": "python",
   "pygments_lexer": "ipython3",
   "version": "3.12.4"
  }
 },
 "nbformat": 4,
 "nbformat_minor": 2
}
