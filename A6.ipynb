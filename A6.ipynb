{
 "cells": [
  {
   "cell_type": "code",
   "execution_count": 23,
   "metadata": {},
   "outputs": [],
   "source": [
    "import numpy as np"
   ]
  },
  {
   "cell_type": "markdown",
   "metadata": {},
   "source": [
    "# Question 1\n",
    "\n",
    "A train is moving along a track, and its position at different time intervals has been\n",
    "recorded. The data is stored in an ASCII text file with the first column representing time $t$ (in\n",
    "seconds) and the second column representing the train's position $s(t)$ (in meters).\n",
    "\n",
    "Your task is to write a Python program that performs both numerical differentiation and\n",
    "numerical integration:\n",
    "\n",
    "1. **Numerical Differentiation:** Compute the velocity of the train at each recorded time\n",
    "   point using the second-order accurate finite difference method $O(h²)$ for all\n",
    "   points, including the first and last points.\n",
    "1. **Numerical Integration:** Compute the total distance travelled by the train by\n",
    "   integrating the velocity over the given time period.\n",
    "\n",
    "No library functions allowed for differentiation and integration\n"
   ]
  },
  {
   "cell_type": "code",
   "execution_count": 24,
   "metadata": {},
   "outputs": [],
   "source": [
    "def load_data(file_name):\n",
    "    data_points = np.genfromtxt(file_name, delimiter=None, skip_header=2)\n",
    "    # make time and distance arrays to float\n",
    "    time = data_points[:, 0].astype(float)\n",
    "    distance = data_points[:, 1].astype(float)\n",
    "    return np.array(time), np.array(distance)"
   ]
  },
  {
   "cell_type": "code",
   "execution_count": 25,
   "metadata": {},
   "outputs": [],
   "source": [
    "def compute_vel(t, s):\n",
    "    v = np.zeros(len(s))\n",
    "    h = t[1] - t[0]\n",
    "    for i in range(0, len(s)):\n",
    "        if i <= len(s) - 3:\n",
    "            # forward difference\n",
    "            v[i] = (-3*s[i] + 4*s[i+1] - s[i+2]) / (2*h)\n",
    "        else:\n",
    "            # backward difference\n",
    "            v[i] = (3*s[i] - 4*s[i-1] + s[i-2]) / (2*h)\n",
    "    return v"
   ]
  },
  {
   "cell_type": "markdown",
   "metadata": {},
   "source": [
    "### 1. Differentiation\n"
   ]
  },
  {
   "cell_type": "code",
   "execution_count": 26,
   "metadata": {},
   "outputs": [],
   "source": [
    "t, s = load_data('Asssignment6_Q1.txt')"
   ]
  },
  {
   "cell_type": "code",
   "execution_count": 27,
   "metadata": {},
   "outputs": [],
   "source": [
    "v = compute_vel(t, s)"
   ]
  },
  {
   "cell_type": "code",
   "execution_count": 28,
   "metadata": {},
   "outputs": [
    {
     "name": "stdout",
     "output_type": "stream",
     "text": [
      "Velocities: [ 0.1  4.7  9.9 15.3 20.3 24.9]\n"
     ]
    }
   ],
   "source": [
    "print(\"Velocities:\", v)"
   ]
  },
  {
   "cell_type": "markdown",
   "metadata": {},
   "source": [
    "### 2. Integration\n"
   ]
  },
  {
   "cell_type": "code",
   "execution_count": 29,
   "metadata": {},
   "outputs": [],
   "source": [
    "def compute_ditance(t, v):\n",
    "    s = 0\n",
    "    for i in range(1, len(v)):\n",
    "        # trapezoidal rule\n",
    "        s += (v[i] + v[i-1])*(t[i]-t[i-1])/2\n",
    "    return s"
   ]
  },
  {
   "cell_type": "code",
   "execution_count": 30,
   "metadata": {},
   "outputs": [
    {
     "name": "stdout",
     "output_type": "stream",
     "text": [
      "Distance: 62.69999999999999\n"
     ]
    }
   ],
   "source": [
    "s = compute_ditance(t, v)\n",
    "print(\"Distance:\", s)"
   ]
  },
  {
   "cell_type": "markdown",
   "metadata": {},
   "source": [
    "# Question 2\n",
    "\n",
    "You are given a partially implemented Python program that is supposed to compute\n",
    "the second derivative of a function 𝑓(𝑥) using numerical differentiation. The function is\n",
    "sampled at unevenly spaced intervals. Your task is to correct or complete the given code so\n",
    "that it correctly computes the second derivative of 𝑓(𝑥) at each data point.\n",
    "The function 𝑓(𝑥) is provided as an array of points in an ASCII text file.\n",
    "\n",
    "You are expected to modify or add functionality to correctly compute the second derivative\n",
    "using methods suitable for non-uniform intervals. You may use techniques such as\n",
    "interpolation or higher-order finite differences.\n"
   ]
  },
  {
   "cell_type": "code",
   "execution_count": 31,
   "metadata": {},
   "outputs": [],
   "source": [
    "# Function to compute the second derivative using finite differences for non-uniform intervals\n",
    "def compute_second_derivative(x, f, is_equally_spaced=True):\n",
    "    n = len(x)\n",
    "    second_derivative = np.zeros(n)\n",
    "\n",
    "    # Unequally spaced points using Lagrange interpolation method\n",
    "    for i in range(1, n-1):\n",
    "        x0, x1, x2 = x[i-1], x[i], x[i+1]\n",
    "        f0, f1, f2 = f[i-1], f[i], f[i+1]\n",
    "\n",
    "        second_derivative[i] = 2 * (\n",
    "            f0 / ((x0 - x1) * (x0 - x2)) +\n",
    "            f1 / ((x1 - x0) * (x1 - x2)) +\n",
    "            f2 / ((x2 - x0) * (x2 - x1))\n",
    "        )\n",
    "\n",
    "    # Use forward difference for the first point\n",
    "    h1 = x[1] - x[0]\n",
    "    h2 = x[2] - x[1]\n",
    "    second_derivative[0] = 2 * (\n",
    "        (f[2] - f[1]) / (h2 * (h1 + h2)) -\n",
    "        (f[1] - f[0]) / (h1 * (h1 + h2))\n",
    "    )\n",
    "\n",
    "    # Use backward difference for the last point\n",
    "    h1 = x[-1] - x[-2]\n",
    "    h2 = x[-2] - x[-3]\n",
    "    second_derivative[-1] = 2 * (\n",
    "        (f[-1] - f[-2]) / (h1 * (h1 + h2)) -\n",
    "        (f[-2] - f[-3]) / (h2 * (h1 + h2))\n",
    "    )\n",
    "\n",
    "    return second_derivative"
   ]
  },
  {
   "cell_type": "code",
   "execution_count": 32,
   "metadata": {},
   "outputs": [],
   "source": [
    "# Read data from file\n",
    "def read_data(file_name):\n",
    "    with open(file_name, 'r') as file:\n",
    "        lines = file.readlines()[2:]  # Skip the headers\n",
    "        x = []\n",
    "        f = []\n",
    "        for line in lines:\n",
    "            data = line.split()\n",
    "            x.append(float(data[0]))\n",
    "            f.append(float(data[1]))\n",
    "    return np.array(x), np.array(f)"
   ]
  },
  {
   "cell_type": "code",
   "execution_count": 33,
   "metadata": {},
   "outputs": [
    {
     "name": "stdout",
     "output_type": "stream",
     "text": [
      "x         Second Derivative f''(x)\n",
      "0.00         2.85714\n",
      "0.30         2.85714\n",
      "0.70         -1.77778\n",
      "1.20         0.33333\n",
      "1.50         1.16667\n",
      "2.00         1.16667\n"
     ]
    }
   ],
   "source": [
    "# Main function to test the second derivative computation\n",
    "def main():\n",
    "    file_name = 'Asssignment6_Q2.txt'\n",
    "    x, f = read_data(file_name)\n",
    "\n",
    "    # Compute second derivatives\n",
    "    second_derivative = compute_second_derivative(x, f)\n",
    "\n",
    "    # Print the results\n",
    "    print(\"x         Second Derivative f''(x)\")\n",
    "    for i in range(len(x)):\n",
    "        print(f\"{x[i]:.2f}         {second_derivative[i]:.5f}\")\n",
    "\n",
    "\n",
    "if __name__ == '__main__':\n",
    "    main()"
   ]
  },
  {
   "cell_type": "markdown",
   "metadata": {},
   "source": [
    "### Using scipy library to calculate the second derivative of a function\n"
   ]
  },
  {
   "cell_type": "code",
   "execution_count": 35,
   "metadata": {},
   "outputs": [
    {
     "name": "stdout",
     "output_type": "stream",
     "text": [
      "Second Gradient: [ 3.85268788  3.85268788 -3.1161273   0.94493711  1.18960421  1.18960421]\n"
     ]
    }
   ],
   "source": [
    "from scipy.interpolate import UnivariateSpline\n",
    "\n",
    "file_name = 'Asssignment6_Q2.txt'\n",
    "x, f = read_data(file_name)\n",
    "\n",
    "# Create a UnivariateSpline object (smoothing spline)\n",
    "spline = UnivariateSpline(x, f, k=2, s=0)\n",
    "\n",
    "# Compute the second derivative\n",
    "second_derivative = spline.derivative(n=2)\n",
    "\n",
    "# Evaluate the second derivative at the original x points\n",
    "second_grad = second_derivative(x)\n",
    "\n",
    "print(\"Second Gradient:\", second_grad)"
   ]
  }
 ],
 "metadata": {
  "kernelspec": {
   "display_name": "CL249",
   "language": "python",
   "name": "python3"
  },
  "language_info": {
   "codemirror_mode": {
    "name": "ipython",
    "version": 3
   },
   "file_extension": ".py",
   "mimetype": "text/x-python",
   "name": "python",
   "nbconvert_exporter": "python",
   "pygments_lexer": "ipython3",
   "version": "3.12.4"
  }
 },
 "nbformat": 4,
 "nbformat_minor": 2
}
